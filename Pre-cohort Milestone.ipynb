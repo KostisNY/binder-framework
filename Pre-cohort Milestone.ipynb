{
 "cells": [
  {
   "cell_type": "code",
   "execution_count": 358,
   "id": "bc439dd5",
   "metadata": {},
   "outputs": [],
   "source": [
    "import pandas as pd\n",
    "import numpy as np\n",
    "import matplotlib.pyplot as plt"
   ]
  },
  {
   "cell_type": "code",
   "execution_count": 239,
   "id": "954b9305",
   "metadata": {},
   "outputs": [],
   "source": [
    "df = pd.read_csv('FY2020.csv')"
   ]
  },
  {
   "cell_type": "code",
   "execution_count": 225,
   "id": "d0f95d8b",
   "metadata": {},
   "outputs": [
    {
     "data": {
      "text/plain": [
       "Index(['Company Name', 'company contact', 'company email', 'company phone',\n",
       "       'Address', 'City', 'State', 'Postcode', 'Industry', 'Industry descr',\n",
       "       'Company Type', 'Current fulltime', 'Job created', 'Job retain',\n",
       "       'Effective Date', 'Total Savings',\n",
       "       'Savings from beginning receiving benefits', 'Borough', 'Latitude',\n",
       "       'Longitude', 'Community Board', 'Council District', 'Census Tract',\n",
       "       'BIN', 'BBL', 'NTA'],\n",
       "      dtype='object')"
      ]
     },
     "execution_count": 225,
     "metadata": {},
     "output_type": "execute_result"
    }
   ],
   "source": [
    "df.columns"
   ]
  },
  {
   "cell_type": "code",
   "execution_count": 33,
   "id": "a4e97bad",
   "metadata": {},
   "outputs": [
    {
     "data": {
      "text/plain": [
       "439"
      ]
     },
     "execution_count": 33,
     "metadata": {},
     "output_type": "execute_result"
    }
   ],
   "source": [
    "len(df[['Company Name']].drop_duplicates())"
   ]
  },
  {
   "cell_type": "code",
   "execution_count": 38,
   "id": "422902a2",
   "metadata": {},
   "outputs": [
    {
     "data": {
      "text/plain": [
       "67"
      ]
     },
     "execution_count": 38,
     "metadata": {},
     "output_type": "execute_result"
    }
   ],
   "source": [
    "len(df.loc[df['City'] == 'Queens'])"
   ]
  },
  {
   "cell_type": "code",
   "execution_count": 126,
   "id": "f041e37c",
   "metadata": {},
   "outputs": [
    {
     "data": {
      "text/plain": [
       "356"
      ]
     },
     "execution_count": 126,
     "metadata": {},
     "output_type": "execute_result"
    }
   ],
   "source": [
    "len(df['company email'].str.split('@').str[1].dropna().drop_duplicates())"
   ]
  },
  {
   "cell_type": "code",
   "execution_count": 292,
   "id": "c2588488",
   "metadata": {},
   "outputs": [],
   "source": [
    "comps_per_nta = df.value_counts(subset=['NTA']).reset_index(name='counts')\n",
    "df2 = comps_per_nta.loc[comps_per_nta['counts']>=5].drop(['counts'], axis=1)\n",
    "ntas = list(comps_per_nta.loc[comps_per_nta['counts']>=5]['NTA'])"
   ]
  },
  {
   "cell_type": "code",
   "execution_count": 299,
   "id": "91ac3ff2",
   "metadata": {
    "scrolled": true
   },
   "outputs": [
    {
     "data": {
      "text/html": [
       "<div>\n",
       "<style scoped>\n",
       "    .dataframe tbody tr th:only-of-type {\n",
       "        vertical-align: middle;\n",
       "    }\n",
       "\n",
       "    .dataframe tbody tr th {\n",
       "        vertical-align: top;\n",
       "    }\n",
       "\n",
       "    .dataframe thead th {\n",
       "        text-align: right;\n",
       "    }\n",
       "</style>\n",
       "<table border=\"1\" class=\"dataframe\">\n",
       "  <thead>\n",
       "    <tr style=\"text-align: right;\">\n",
       "      <th></th>\n",
       "      <th>NTA</th>\n",
       "      <th>Average Total Savings</th>\n",
       "      <th>Average Job created</th>\n",
       "    </tr>\n",
       "  </thead>\n",
       "  <tbody>\n",
       "    <tr>\n",
       "      <th>0</th>\n",
       "      <td>Hunters Point-Sunnyside-West Maspeth</td>\n",
       "      <td>23931.398933</td>\n",
       "      <td>NaN</td>\n",
       "    </tr>\n",
       "    <tr>\n",
       "      <th>1</th>\n",
       "      <td>Sunset Park West</td>\n",
       "      <td>14316.976875</td>\n",
       "      <td>NaN</td>\n",
       "    </tr>\n",
       "    <tr>\n",
       "      <th>2</th>\n",
       "      <td>Queensbridge-Ravenswood-Long Island City</td>\n",
       "      <td>61830.770625</td>\n",
       "      <td>NaN</td>\n",
       "    </tr>\n",
       "    <tr>\n",
       "      <th>3</th>\n",
       "      <td>park-cemetery-etc-Brooklyn</td>\n",
       "      <td>14327.419333</td>\n",
       "      <td>NaN</td>\n",
       "    </tr>\n",
       "    <tr>\n",
       "      <th>4</th>\n",
       "      <td>Mott Haven-Port Morris</td>\n",
       "      <td>17843.937857</td>\n",
       "      <td>3.333333</td>\n",
       "    </tr>\n",
       "    <tr>\n",
       "      <th>5</th>\n",
       "      <td>Greenpoint</td>\n",
       "      <td>9753.649286</td>\n",
       "      <td>NaN</td>\n",
       "    </tr>\n",
       "    <tr>\n",
       "      <th>6</th>\n",
       "      <td>Hunts Point</td>\n",
       "      <td>39246.016154</td>\n",
       "      <td>12.000000</td>\n",
       "    </tr>\n",
       "    <tr>\n",
       "      <th>7</th>\n",
       "      <td>Carroll Gardens-Columbia Street-Red Hook</td>\n",
       "      <td>24337.390000</td>\n",
       "      <td>NaN</td>\n",
       "    </tr>\n",
       "    <tr>\n",
       "      <th>8</th>\n",
       "      <td>East Williamsburg</td>\n",
       "      <td>13990.626364</td>\n",
       "      <td>NaN</td>\n",
       "    </tr>\n",
       "    <tr>\n",
       "      <th>9</th>\n",
       "      <td>DUMBO-Vinegar Hill-Downtown Brooklyn-Boerum Hill</td>\n",
       "      <td>59950.340000</td>\n",
       "      <td>NaN</td>\n",
       "    </tr>\n",
       "    <tr>\n",
       "      <th>10</th>\n",
       "      <td>Bushwick South</td>\n",
       "      <td>26140.455000</td>\n",
       "      <td>10.000000</td>\n",
       "    </tr>\n",
       "    <tr>\n",
       "      <th>11</th>\n",
       "      <td>Manhattanville</td>\n",
       "      <td>2760.888889</td>\n",
       "      <td>NaN</td>\n",
       "    </tr>\n",
       "    <tr>\n",
       "      <th>12</th>\n",
       "      <td>Maspeth</td>\n",
       "      <td>6658.283333</td>\n",
       "      <td>10.000000</td>\n",
       "    </tr>\n",
       "    <tr>\n",
       "      <th>13</th>\n",
       "      <td>Battery Park City-Lower Manhattan</td>\n",
       "      <td>469890.796667</td>\n",
       "      <td>NaN</td>\n",
       "    </tr>\n",
       "    <tr>\n",
       "      <th>14</th>\n",
       "      <td>East New York</td>\n",
       "      <td>48433.093333</td>\n",
       "      <td>15.000000</td>\n",
       "    </tr>\n",
       "    <tr>\n",
       "      <th>15</th>\n",
       "      <td>Crown Heights North</td>\n",
       "      <td>4036.298889</td>\n",
       "      <td>NaN</td>\n",
       "    </tr>\n",
       "    <tr>\n",
       "      <th>16</th>\n",
       "      <td>College Point</td>\n",
       "      <td>17159.372857</td>\n",
       "      <td>2.000000</td>\n",
       "    </tr>\n",
       "    <tr>\n",
       "      <th>17</th>\n",
       "      <td>Steinway</td>\n",
       "      <td>11227.155714</td>\n",
       "      <td>20.000000</td>\n",
       "    </tr>\n",
       "    <tr>\n",
       "      <th>18</th>\n",
       "      <td>Springfield Gardens South-Brookville</td>\n",
       "      <td>17757.662000</td>\n",
       "      <td>NaN</td>\n",
       "    </tr>\n",
       "    <tr>\n",
       "      <th>19</th>\n",
       "      <td>SoHo-TriBeCa-Civic Center-Little Italy</td>\n",
       "      <td>37214.024000</td>\n",
       "      <td>NaN</td>\n",
       "    </tr>\n",
       "  </tbody>\n",
       "</table>\n",
       "</div>"
      ],
      "text/plain": [
       "                                                 NTA  Average Total Savings  \\\n",
       "0               Hunters Point-Sunnyside-West Maspeth           23931.398933   \n",
       "1                                   Sunset Park West           14316.976875   \n",
       "2           Queensbridge-Ravenswood-Long Island City           61830.770625   \n",
       "3                         park-cemetery-etc-Brooklyn           14327.419333   \n",
       "4                             Mott Haven-Port Morris           17843.937857   \n",
       "5                                         Greenpoint            9753.649286   \n",
       "6                                        Hunts Point           39246.016154   \n",
       "7           Carroll Gardens-Columbia Street-Red Hook           24337.390000   \n",
       "8                                  East Williamsburg           13990.626364   \n",
       "9   DUMBO-Vinegar Hill-Downtown Brooklyn-Boerum Hill           59950.340000   \n",
       "10                                    Bushwick South           26140.455000   \n",
       "11                                    Manhattanville            2760.888889   \n",
       "12                                           Maspeth            6658.283333   \n",
       "13                 Battery Park City-Lower Manhattan          469890.796667   \n",
       "14                                     East New York           48433.093333   \n",
       "15                               Crown Heights North            4036.298889   \n",
       "16                                     College Point           17159.372857   \n",
       "17                                          Steinway           11227.155714   \n",
       "18              Springfield Gardens South-Brookville           17757.662000   \n",
       "19            SoHo-TriBeCa-Civic Center-Little Italy           37214.024000   \n",
       "\n",
       "    Average Job created  \n",
       "0                   NaN  \n",
       "1                   NaN  \n",
       "2                   NaN  \n",
       "3                   NaN  \n",
       "4              3.333333  \n",
       "5                   NaN  \n",
       "6             12.000000  \n",
       "7                   NaN  \n",
       "8                   NaN  \n",
       "9                   NaN  \n",
       "10            10.000000  \n",
       "11                  NaN  \n",
       "12            10.000000  \n",
       "13                  NaN  \n",
       "14            15.000000  \n",
       "15                  NaN  \n",
       "16             2.000000  \n",
       "17            20.000000  \n",
       "18                  NaN  \n",
       "19                  NaN  "
      ]
     },
     "execution_count": 299,
     "metadata": {},
     "output_type": "execute_result"
    }
   ],
   "source": [
    "df2['Average Total Savings'] = df2.apply(lambda x: df.loc[df['NTA'] == x[\"NTA\"]]['Total Savings'].mean(), axis=1)\n",
    "df2['Average Job created'] = df2.apply(lambda x: df.loc[df['NTA'] == x[\"NTA\"]]['Job created'].mean(), axis=1)\n",
    "df2"
   ]
  },
  {
   "cell_type": "code",
   "execution_count": 300,
   "id": "701bc2e3",
   "metadata": {},
   "outputs": [],
   "source": [
    "df2.to_csv('ntas.csv')"
   ]
  },
  {
   "cell_type": "code",
   "execution_count": 304,
   "id": "fec8de62",
   "metadata": {},
   "outputs": [
    {
     "data": {
      "text/plain": [
       "[23931.398933333337,\n",
       " 14316.976875000002,\n",
       " 61830.770625,\n",
       " 14327.419333333331,\n",
       " 17843.937857142857,\n",
       " 9753.649285714284,\n",
       " 39246.016153846154,\n",
       " 24337.390000000003,\n",
       " 13990.626363636366,\n",
       " 59950.340000000004,\n",
       " 26140.455000000005,\n",
       " 2760.8888888888887,\n",
       " 6658.283333333334,\n",
       " 469890.79666666663,\n",
       " 48433.09333333333,\n",
       " 4036.298888888889,\n",
       " 17159.372857142855,\n",
       " 11227.155714285715,\n",
       " 17757.662,\n",
       " 37214.024]"
      ]
     },
     "execution_count": 304,
     "metadata": {},
     "output_type": "execute_result"
    }
   ],
   "source": [
    "list(df2['Average Total Savings'])"
   ]
  },
  {
   "cell_type": "code",
   "execution_count": 359,
   "id": "91bd846d",
   "metadata": {},
   "outputs": [
    {
     "data": {
      "image/png": "[encoded data removed]",
      "text/plain": [
       "<Figure size 432x288 with 1 Axes>"
      ]
     },
     "metadata": {
      "needs_background": "light"
     },
     "output_type": "display_data"
    }
   ],
   "source": [
    "plt.xlabel(\"Average Total Savings\")\n",
    "plt.ylabel(\"Average Job createde\")\n",
    "plt.scatter(df2['Average Total Savings'], df2['Average Job created'])\n",
    "plt.yscale(\"log\")\n",
    "plt.show()"
   ]
  },
  {
   "cell_type": "code",
   "execution_count": 347,
   "id": "e312924f",
   "metadata": {},
   "outputs": [
    {
     "data": {
      "image/png": "[encoded data removed]",
      "text/plain": [
       "<Figure size 432x288 with 1 Axes>"
      ]
     },
     "metadata": {
      "needs_background": "light"
     },
     "output_type": "display_data"
    }
   ],
   "source": [
    "plt.xscale(\"log\")\n",
    "plt.xlabel(\"Average Total Savings\")\n",
    "plt.ylabel(\"Average Job createde\")\n",
    "plt.scatter(df2['Average Total Savings'], df2['Average Job created'])\n",
    "plt.yscale(\"log\")\n",
    "plt.show()"
   ]
  },
  {
   "cell_type": "code",
   "execution_count": 354,
   "id": "48a89741",
   "metadata": {},
   "outputs": [
    {
     "data": {
      "text/plain": [
       "(array([2., 1., 2., 6., 3., 4., 1., 0., 0., 1.]),\n",
       " array([ 7.92330797,  8.43700273,  8.95069749,  9.46439226,  9.97808702,\n",
       "        10.49178178, 11.00547655, 11.51917131, 12.03286607, 12.54656084,\n",
       "        13.0602556 ]),\n",
       " <BarContainer object of 10 artists>)"
      ]
     },
     "execution_count": 354,
     "metadata": {},
     "output_type": "execute_result"
    },
    {
     "data": {
      "image/png": "[encoded data removed]",
      "text/plain": [
       "<Figure size 432x288 with 1 Axes>"
      ]
     },
     "metadata": {
      "needs_background": "light"
     },
     "output_type": "display_data"
    }
   ],
   "source": [
    "plt.title(\"Average Total Savings per \")\n",
    "plt.hist(np.log(df2['Average Total Savings']))"
   ]
  },
  {
   "cell_type": "code",
   "execution_count": null,
   "id": "acfa2bb7",
   "metadata": {},
   "outputs": [],
   "source": []
  }
 ],
 "metadata": {
  "kernelspec": {
   "display_name": "Python 3 (ipykernel)",
   "language": "python",
   "name": "python3"
  },
  "language_info": {
   "codemirror_mode": {
    "name": "ipython",
    "version": 3
   },
   "file_extension": ".py",
   "mimetype": "text/x-python",
   "name": "python",
   "nbconvert_exporter": "python",
   "pygments_lexer": "ipython3",
   "version": "3.9.7"
  }
 },
 "nbformat": 4,
 "nbformat_minor": 5
}
