import pandas as pd
import numpy as np
import matplotlib.pyplot as plt

df = pd.read_csv('FY2020.csv')

df.columns

len(df[['Company Name']].drop_duplicates())

len(df.loc[df['City'] == 'Queens'])

len(df['company email'].str.split('@').str[1].dropna().drop_duplicates())

comps_per_nta = df.value_counts(subset=['NTA']).reset_index(name='counts')
df2 = comps_per_nta.loc[comps_per_nta['counts']>=5].drop(['counts'], axis=1)
ntas = list(comps_per_nta.loc[comps_per_nta['counts']>=5]['NTA'])

df2['Average Total Savings'] = df2.apply(lambda x: df.loc[df['NTA'] == x["NTA"]]['Total Savings'].mean(), axis=1)
df2['Average Job created'] = df2.apply(lambda x: df.loc[df['NTA'] == x["NTA"]]['Job created'].mean(), axis=1)
df2

df2.to_csv('ntas.csv')

list(df2['Average Total Savings'])

plt.xlabel("Average Total Savings")
plt.ylabel("Average Job createde")
plt.scatter(df2['Average Total Savings'], df2['Average Job created'])
plt.yscale("log")
plt.show()

plt.xscale("log")
plt.xlabel("Average Total Savings")
plt.ylabel("Average Job createde")
plt.scatter(df2['Average Total Savings'], df2['Average Job created'])
plt.yscale("log")
plt.show()

plt.title("Average Total Savings per ")
plt.hist(np.log(df2['Average Total Savings']))

